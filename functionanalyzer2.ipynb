import os
import re
import zipfile
import xml.etree.ElementTree as ET
import pandas as pd
from collections import defaultdict

# Folder path and output file
folder_path = "/Users/guillermobautista/desktop/JKU/Function Arts/DataAnalysis/2024deparocomputer"
output_file = os.path.join(folder_path, "2024deparomobile.csv")

# --- Helper functions ---
def clean_expression(expr):
    match = re.match(r'\s*\w+\(x\)\s*=\s*If\[[^\]]+\s*,\s*(.+?)\s*\]', expr)
    if match:
        return match.group(1)
    match = re.match(r'\s*\w+\(x\)\s*=\s*(.+)', expr)
    return match.group(1) if match else expr

def classify_function_core(expr):
    expr = expr.lower().replace(" ", "")
    if "abs" in expr:
        return "ABS"
    elif re.search(r'x(\*\*|\^)\(?2\)?', expr):
        return "QUA"
    elif re.fullmatch(r'[-+]?\d+(\.\d+)?', expr):
        return "CON"
    elif "sin" in expr:
        return "SIN"
    elif "cos" in expr:
        return "COS"
    elif "tan" in expr:
        return "TAN"
    elif "sqrt" in expr:
        return "RAD"
    elif "log" in expr:
        return "LOG"
    elif "exp" in expr or "e^" in expr:
        return "EXP"
    elif "/" in expr:
        return "RAT"
    elif re.search(r'x[\^\*][3-9]', expr) or "poly" in expr:
        return "POL"
    elif "x" in expr:
        return "LIN"
    else:
        return "OTF"

def classify_function(expression):
    expr = clean_expression(expression)
    return classify_function_core(expr)

def classify_conic(matrix):
    A, B, C, D, E, F = matrix
    if B == 0 and A == C:
        return "conic_circle"
    elif B**2 - 4*A*C < 0:
        return "conic_ellipse"
    elif B**2 - 4*A*C == 0:
        return "conic_parabola"
    elif B**2 - 4*A*C > 0:
        return "conic_hyperbola"
    else:
        return "conic_other"

def parse_geogebra_file(file_path):
    """Open a .ggb (zip) file and parse geogebra.xml"""
    with zipfile.ZipFile(file_path, 'r') as z:
        with z.open('geogebra.xml') as xml_file:
            tree = ET.parse(xml_file)
    return tree

# --- Main processing ---
all_object_types = set()
data = []

for filename in os.listdir(folder_path):
    if filename.endswith(".ggb"):
        file_path = os.path.join(folder_path, filename)
        try:
            tree = parse_geogebra_file(file_path)
            root = tree.getroot()

            counts = defaultdict(int)

            # Map expressions to their labels
            expressions = {
                exp.attrib["label"]: exp.attrib.get("exp", "")
                for exp in root.findall(".//expression[@type='function']")
            }

            total_functions = 0  # count of all functions in this file

            # Count steps in construction protocol (elements + commands)
            construction = root.find(".//construction")
            if construction is not None:
                steps = len(construction.findall(".//element")) + len(construction.findall(".//command"))
            else:
                steps = 0
            counts["CP"] = steps
            all_object_types.add("CP")

            # Iterate over all elements
            for elem in root.findall(".//element"):
                obj_type = elem.attrib.get("type", "")
                label = elem.attrib.get("label", "")

                if obj_type == "function":
                    total_functions += 1
                    expr = expressions.get(label, "")
                    if expr:
                        ftype = classify_function(expr)
                        counts[ftype] += 1
                        all_object_types.add(ftype)
                    else:
                        counts["OTF"] += 1
                        all_object_types.add("OTF")

                elif obj_type == "parametric":
                    counts["PAR"] += 1
                    all_object_types.add("PAR")

                elif obj_type == "conic":
                    matrix_elem = elem.find(".//matrix")
                    if matrix_elem is not None:
                        try:
                            A = float(matrix_elem.attrib.get("A0", 0))
                            B = float(matrix_elem.attrib.get("A1", 0))
                            C = float(matrix_elem.attrib.get("A2", 0))
                            D = float(matrix_elem.attrib.get("A3", 0))
                            E = float(matrix_elem.attrib.get("A4", 0))
                            F = float(matrix_elem.attrib.get("A5", 0))
                            conic_type = classify_conic([A, B, C, D, E, F])
                            counts[conic_type] += 1
                            all_object_types.add(conic_type)
                        except Exception:
                            counts["conic_unknown"] += 1
                            all_object_types.add("conic_unknown")
                    else:
                        counts["conic_unknown"] += 1
                        all_object_types.add("conic_unknown")

                else:
                    counts[obj_type] += 1
                    all_object_types.add(obj_type)

            # Add total functions count (ONLY functions)
            counts["TOT"] = total_functions
            all_object_types.add("TOT")

            # Save counts for this file
            row = {"filename": filename}
            row.update(counts)
            data.append(row)

        except Exception as e:
            print(f"Skipping {filename}: {e}")

# Create DataFrame
df = pd.DataFrame(data)

# Fill missing object types with 0
for obj in all_object_types:
    if obj not in df.columns:
        df[obj] = 0

df = df.fillna(0)  # ensure no NaNs

# --- Desired column order for functions ---
function_order = ["CON", "LIN", "ABS", "QUA", "POL", "RAT", "RAD", "SIN", "COS", "TAN", "EXP", "LOG", "OTF", "TOT", "PAR", "CP"]

# Remaining object types (excluding functions + filename)
remaining_types = sorted([obj for obj in all_object_types if obj not in function_order])

# Final column order
final_columns = ["filename"] + function_order + remaining_types

# Ensure all columns exist
for col in final_columns:
    if col not in df.columns:
        df[col] = 0

df = df[final_columns]

# Save & show
print(df)
df.to_csv(output_file, index=False)
print(f"GeoGebra object tally saved to: {output_file}")
